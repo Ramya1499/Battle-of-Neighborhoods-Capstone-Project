{
    "cells": [
        {
            "cell_type": "markdown",
            "metadata": {
                "collapsed": true
            },
            "source": "# Data and its Description"
        },
        {
            "cell_type": "markdown",
            "metadata": {},
            "source": "For this project we will be using the following datasets:\n\nTo analyze the New York City:\n    \nI have used the Beautiful Soup module from bs4 package to extract the data from the Cities Wikipedia pages. In order to segment the neighborhoods and explore them we need to collect data of the neighborhoods and their boroughs.\n\n1. New York Neighborhoods and their Lat & Long Coordinates - https://geo.nyu.edu/catalog/nyu_2451_34572\n2. New York Population and its Demographics - https://en.wikipedia.org/wiki/New_York_City\n3. Competitors in a particular business - Can be found by Foursquare API\n4. The Geographical Coordinates of the boroughs - can be found using Python Geolibrary\n\nTo analyze the City of Toronto:\n\nThe following websites are used to analyze the City of Toronto.\n\n1. Toronto Neighborhoods - https://en.wikipedia.org/wiki/List_of_postal_codes_of_Canada:_M\n2. Toronto Geographical Coordinates - http://cocl.us/geospatial_data\n\nAll the above datasets will provide us information on the Postal Codes, Geographical Coordinates, Borough and Neighborhood Names of both the cities.\n\nFoursquare API will help us in finding more information about venues such as best restaurants, coffee shops, must visit places etc. which will help us understand both the locations.\n\nWe will also be using Folium and various other Python Packages to create Maps representing both the locations as well so that we can visulize the similarity/dissimilarity of both the regions and use machine learning algorithms such as K- Means Algorithm to cluster the data into various segments.\n\nMore understanding about Foursquare and its usage can be found at  https://foursquare.com/\n"
        }
    ],
    "metadata": {
        "kernelspec": {
            "display_name": "Python 3.6",
            "language": "python",
            "name": "python3"
        },
        "language_info": {
            "codemirror_mode": {
                "name": "ipython",
                "version": 3
            },
            "file_extension": ".py",
            "mimetype": "text/x-python",
            "name": "python",
            "nbconvert_exporter": "python",
            "pygments_lexer": "ipython3",
            "version": "3.6.9"
        }
    },
    "nbformat": 4,
    "nbformat_minor": 1
}