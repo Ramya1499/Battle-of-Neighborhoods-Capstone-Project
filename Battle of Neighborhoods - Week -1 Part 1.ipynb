{
    "cells": [
        {
            "cell_type": "markdown",
            "metadata": {},
            "source": "# Battle of Neighborhood -- Week 1\n\n"
        },
        {
            "cell_type": "markdown",
            "metadata": {},
            "source": "\n ## Introduction & Business Problem : \n\n\n"
        },
        {
            "cell_type": "markdown",
            "metadata": {},
            "source": "### Problem Understanding"
        },
        {
            "cell_type": "markdown",
            "metadata": {},
            "source": "New York City is one the most populous cities in the United States. It is diverse, multicultural and is the global hub of business and commerce. The city is a major center of financial, and media capital of the world, significantly influencing commerce,entertainment, research, technology, education, politics, tourism, art, fashion, and sports. It also highly promotes business opportunities for anyone who wants to start a new startup.\n\nToronto is the provincial capital of Ontario and is the most populous city in Canada. It is an international centre of business, finance, arts, and culture, and is recognized as one of the most multicultural and cosmopolitan cities in the world. It is considered as the financial capital of Canada and has a high concentration of banks and brokerage firms on Bay Street, in the Financial District. Toronto\u2019s stock exchange is considered to be the world's seventh-largest stock exchange by market capitalization and the Big Five companies having national offices in Toronto.\n\nConsidering how perfect the locations are in terms of starting a new business and the markets being highly competitive, cost of doing business will also be very high. Thus, any new business venture or expansion needs to be analysed very carefully. The insights derived from this analysis will give us a good understanding of the business environment which will help us in strategically targeting the market and also help us reduce the risk factor associated.\n"
        },
        {
            "cell_type": "markdown",
            "metadata": {},
            "source": "### Problem Description"
        },
        {
            "cell_type": "markdown",
            "metadata": {},
            "source": "Suppose there is a person \u2018A\u2019 who is the Managing Director of a Company wants to expand his business and has selected 2 prime locations i.e. Toronto, Canada and New York City, USA. \u2018A\u2019 wants to understand the neighborhoods and local businesses in those cities so that he can understand how the cities will be in terms of diversity, food cuisines, living standards and the quality of life for the employees. This project will explore the neighborhoods of both the cities and determine which will be a best fit to their company to expand their business and which area to work upon.\n\nI have been appointed as the Data Analyst to help A's company. After having a clear discussion and understanding the companies concerns, I have understood there are various factors we should be considering before we start analyzing the problem i.e. we need to have an understanding on \n   - Population Statistics of both the cities\n   - The Demographics\n   - Competitors in those locations.\n   and so on.\nAfter understanding we can start working on how similar/dissimilar the cities and which would be a good fit.   "
        }
    ],
    "metadata": {
        "kernelspec": {
            "display_name": "Python 3.6",
            "language": "python",
            "name": "python3"
        },
        "language_info": {
            "codemirror_mode": {
                "name": "ipython",
                "version": 3
            },
            "file_extension": ".py",
            "mimetype": "text/x-python",
            "name": "python",
            "nbconvert_exporter": "python",
            "pygments_lexer": "ipython3",
            "version": "3.6.9"
        }
    },
    "nbformat": 4,
    "nbformat_minor": 1
}